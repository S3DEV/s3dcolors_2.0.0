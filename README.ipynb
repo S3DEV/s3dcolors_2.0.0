{
 "cells": [
  {
   "cell_type": "markdown",
   "metadata": {},
   "source": [
    "# s3dcolors\n",
    "---\n",
    "This is a small centralised class libary for S3DEV colourmaps.  For complete design and functionality, refer to the class docstrings.\n",
    "\n",
    "\n",
    "### V2 UPDATE\n",
    "---\n",
    "Version 2.0.0 introduces a complete overhaul from previous versions.  Aside from the module being renamed, the primary update is that this module is now a **class module**; so the results are no longer dictionary based, but class property based.\n",
    "\n",
    "\n",
    "### INSTALLATION  \n",
    "---  \n",
    "Remember to replace s3dcolors\\_**x.x.x** with the version you want.\n",
    "\n",
    "\n",
    "#### LINUX\n",
    "```bash\n",
    "> sudo pip install git+https://github.com/s3dev/s3dcolors_x.x.x\n",
    "```\n",
    "or\n",
    "```bash\n",
    "> sudo python <path_to_package>/setup.py install\n",
    "```\n",
    "\n",
    "#### WINDOWS  \n",
    "```bash\n",
    "> pip install git+https://github.com/s3dev/s3dcolors_x.x.x\n",
    "```\n",
    "or \n",
    "```bash\n",
    "> python <path_to_package>\\setup.py install \n",
    "```\n",
    "\n",
    "### USE\n",
    "---\n",
    "Here is a quick example of how the colours can be accessed, along with some parameter usage:\n",
    "\n",
    "```python\n",
    ">>> from s3dcolors.s3dcolors import CMaps\n",
    ">>> cmap_clrs = CMaps.Colors(alpha=0.75, mode='rgb', drop_alpha=False)\n",
    ">>> clrs_red = cmap_clrs.red\n",
    "```\n"
   ]
  }
 ],
 "metadata": {
  "kernelspec": {
   "display_name": "Python 2",
   "language": "python",
   "name": "python2"
  },
  "language_info": {
   "codemirror_mode": {
    "name": "ipython",
    "version": 2
   },
   "file_extension": ".py",
   "mimetype": "text/x-python",
   "name": "python",
   "nbconvert_exporter": "python",
   "pygments_lexer": "ipython2",
   "version": "2.7.13"
  }
 },
 "nbformat": 4,
 "nbformat_minor": 2
}
